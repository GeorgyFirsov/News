{
 "cells": [
  {
   "cell_type": "code",
   "execution_count": 3,
   "metadata": {},
   "outputs": [],
   "source": [
    "from datetime import datetime\n",
    "import pandas as pd"
   ]
  },
  {
   "cell_type": "code",
   "execution_count": 4,
   "metadata": {},
   "outputs": [],
   "source": [
    "df1 = pd.read_csv('thistrain1.csv', sep =';', encoding = 'utf-8')\n",
    "mean = df1.Change_prise.mean()"
   ]
  },
  {
   "cell_type": "code",
   "execution_count": 5,
   "metadata": {},
   "outputs": [],
   "source": [
    "df1.Change_prise = df1.Change_prise.fillna(mean)"
   ]
  },
  {
   "cell_type": "code",
   "execution_count": 6,
   "metadata": {},
   "outputs": [
    {
     "data": {
      "text/html": [
       "<div>\n",
       "<style scoped>\n",
       "    .dataframe tbody tr th:only-of-type {\n",
       "        vertical-align: middle;\n",
       "    }\n",
       "\n",
       "    .dataframe tbody tr th {\n",
       "        vertical-align: top;\n",
       "    }\n",
       "\n",
       "    .dataframe thead th {\n",
       "        text-align: right;\n",
       "    }\n",
       "</style>\n",
       "<table border=\"1\" class=\"dataframe\">\n",
       "  <thead>\n",
       "    <tr style=\"text-align: right;\">\n",
       "      <th></th>\n",
       "      <th>Unnamed: 0</th>\n",
       "      <th>Max_Increase</th>\n",
       "      <th>Max_Decrease</th>\n",
       "      <th>Positive_number</th>\n",
       "      <th>Negative_number</th>\n",
       "      <th>Change_prise</th>\n",
       "      <th>Isincreased</th>\n",
       "    </tr>\n",
       "  </thead>\n",
       "  <tbody>\n",
       "    <tr>\n",
       "      <th>0</th>\n",
       "      <td>0</td>\n",
       "      <td>1.029483</td>\n",
       "      <td>0.970345</td>\n",
       "      <td>19</td>\n",
       "      <td>8</td>\n",
       "      <td>-0.008552</td>\n",
       "      <td>0</td>\n",
       "    </tr>\n",
       "    <tr>\n",
       "      <th>1</th>\n",
       "      <td>1</td>\n",
       "      <td>1.028703</td>\n",
       "      <td>0.969609</td>\n",
       "      <td>22</td>\n",
       "      <td>8</td>\n",
       "      <td>-0.012599</td>\n",
       "      <td>0</td>\n",
       "    </tr>\n",
       "    <tr>\n",
       "      <th>2</th>\n",
       "      <td>2</td>\n",
       "      <td>1.026938</td>\n",
       "      <td>0.967945</td>\n",
       "      <td>23</td>\n",
       "      <td>8</td>\n",
       "      <td>-0.005123</td>\n",
       "      <td>1</td>\n",
       "    </tr>\n",
       "    <tr>\n",
       "      <th>3</th>\n",
       "      <td>3</td>\n",
       "      <td>1.024508</td>\n",
       "      <td>0.972552</td>\n",
       "      <td>24</td>\n",
       "      <td>15</td>\n",
       "      <td>0.012737</td>\n",
       "      <td>1</td>\n",
       "    </tr>\n",
       "    <tr>\n",
       "      <th>4</th>\n",
       "      <td>4</td>\n",
       "      <td>1.025716</td>\n",
       "      <td>0.973699</td>\n",
       "      <td>23</td>\n",
       "      <td>20</td>\n",
       "      <td>0.006516</td>\n",
       "      <td>0</td>\n",
       "    </tr>\n",
       "  </tbody>\n",
       "</table>\n",
       "</div>"
      ],
      "text/plain": [
       "   Unnamed: 0  Max_Increase  Max_Decrease  Positive_number  Negative_number  \\\n",
       "0           0      1.029483      0.970345               19                8   \n",
       "1           1      1.028703      0.969609               22                8   \n",
       "2           2      1.026938      0.967945               23                8   \n",
       "3           3      1.024508      0.972552               24               15   \n",
       "4           4      1.025716      0.973699               23               20   \n",
       "\n",
       "   Change_prise  Isincreased  \n",
       "0     -0.008552            0  \n",
       "1     -0.012599            0  \n",
       "2     -0.005123            1  \n",
       "3      0.012737            1  \n",
       "4      0.006516            0  "
      ]
     },
     "execution_count": 6,
     "metadata": {},
     "output_type": "execute_result"
    }
   ],
   "source": [
    "df1.head()"
   ]
  },
  {
   "cell_type": "code",
   "execution_count": 8,
   "metadata": {
    "scrolled": true
   },
   "outputs": [
    {
     "data": {
      "text/html": [
       "<div>\n",
       "<style scoped>\n",
       "    .dataframe tbody tr th:only-of-type {\n",
       "        vertical-align: middle;\n",
       "    }\n",
       "\n",
       "    .dataframe tbody tr th {\n",
       "        vertical-align: top;\n",
       "    }\n",
       "\n",
       "    .dataframe thead th {\n",
       "        text-align: right;\n",
       "    }\n",
       "</style>\n",
       "<table border=\"1\" class=\"dataframe\">\n",
       "  <thead>\n",
       "    <tr style=\"text-align: right;\">\n",
       "      <th></th>\n",
       "      <th>Max_Increase</th>\n",
       "      <th>Max_Decrease</th>\n",
       "      <th>Positive_number</th>\n",
       "      <th>Negative_number</th>\n",
       "      <th>Change_prise</th>\n",
       "    </tr>\n",
       "  </thead>\n",
       "  <tbody>\n",
       "    <tr>\n",
       "      <th>0</th>\n",
       "      <td>1.029483</td>\n",
       "      <td>0.970345</td>\n",
       "      <td>19</td>\n",
       "      <td>8</td>\n",
       "      <td>-0.008552</td>\n",
       "    </tr>\n",
       "    <tr>\n",
       "      <th>1</th>\n",
       "      <td>1.028703</td>\n",
       "      <td>0.969609</td>\n",
       "      <td>22</td>\n",
       "      <td>8</td>\n",
       "      <td>-0.012599</td>\n",
       "    </tr>\n",
       "    <tr>\n",
       "      <th>2</th>\n",
       "      <td>1.026938</td>\n",
       "      <td>0.967945</td>\n",
       "      <td>23</td>\n",
       "      <td>8</td>\n",
       "      <td>-0.005123</td>\n",
       "    </tr>\n",
       "    <tr>\n",
       "      <th>3</th>\n",
       "      <td>1.024508</td>\n",
       "      <td>0.972552</td>\n",
       "      <td>24</td>\n",
       "      <td>15</td>\n",
       "      <td>0.012737</td>\n",
       "    </tr>\n",
       "    <tr>\n",
       "      <th>4</th>\n",
       "      <td>1.025716</td>\n",
       "      <td>0.973699</td>\n",
       "      <td>23</td>\n",
       "      <td>20</td>\n",
       "      <td>0.006516</td>\n",
       "    </tr>\n",
       "  </tbody>\n",
       "</table>\n",
       "</div>"
      ],
      "text/plain": [
       "   Max_Increase  Max_Decrease  Positive_number  Negative_number  Change_prise\n",
       "0      1.029483      0.970345               19                8     -0.008552\n",
       "1      1.028703      0.969609               22                8     -0.012599\n",
       "2      1.026938      0.967945               23                8     -0.005123\n",
       "3      1.024508      0.972552               24               15      0.012737\n",
       "4      1.025716      0.973699               23               20      0.006516"
      ]
     },
     "execution_count": 8,
     "metadata": {},
     "output_type": "execute_result"
    }
   ],
   "source": [
    "x = df1.drop(['Isincreased', 'Unnamed: 0'], axis = 1)\n",
    "x.head()"
   ]
  },
  {
   "cell_type": "code",
   "execution_count": 20,
   "metadata": {
    "scrolled": true
   },
   "outputs": [
    {
     "name": "stdout",
     "output_type": "stream",
     "text": [
      "Populating the interactive namespace from numpy and matplotlib\n"
     ]
    }
   ],
   "source": [
    "%pylab inline\n",
    "import numpy as np\n",
    "from sklearn import datasets\n",
    "from sklearn.model_selection import train_test_split, GridSearchCV\n",
    "from sklearn.pipeline import Pipeline\n",
    "from sklearn.linear_model import Lasso, RidgeCV, LassoCV\n",
    "from sklearn.preprocessing import StandardScaler\n",
    "from sklearn.preprocessing import PolynomialFeatures\n",
    "from sklearn.linear_model import LogisticRegression\n",
    "from sklearn.neighbors import KNeighborsClassifier\n",
    "from sklearn.preprocessing import StandardScaler\n",
    "from sklearn.metrics import accuracy_score\n",
    "from sklearn.ensemble import RandomForestClassifier\n",
    "from sklearn.tree import DecisionTreeClassifier\n",
    "from sklearn.cross_validation import train_test_split\n",
    "kfold = 5 #количество подвыборок для валидации\n",
    "itog_val = {} #список для записи результатов кросс валидации разных алгоритмов"
   ]
  },
  {
   "cell_type": "code",
   "execution_count": 23,
   "metadata": {},
   "outputs": [],
   "source": [
    "y = df1.Isincreased.values"
   ]
  },
  {
   "cell_type": "code",
   "execution_count": 25,
   "metadata": {},
   "outputs": [],
   "source": [
    "from sklearn.cross_validation import train_test_split\n",
    "\n",
    "kfold = 5 #количество подвыборок для валидации\n",
    "itog_val = {} #список для записи результатов кросс валидации разных алгоритмов"
   ]
  },
  {
   "cell_type": "code",
   "execution_count": 26,
   "metadata": {},
   "outputs": [],
   "source": [
    "X_train, X_test, y_train, y_test = train_test_split(x.values, y, test_size=0.2)"
   ]
  },
  {
   "cell_type": "code",
   "execution_count": 27,
   "metadata": {},
   "outputs": [
    {
     "name": "stdout",
     "output_type": "stream",
     "text": [
      "итог {'Classifier': 0.5391296769099838}\n"
     ]
    }
   ],
   "source": [
    "clf = DecisionTreeClassifier()    \n",
    "scores = cross_val_score(clf, X_train, y_train, cv=kfold)\n",
    "itog_val['Classifier'] = scores.mean()\n",
    "print ('итог', itog_val)\n",
    "clf.fit(X_train, y_train)\n",
    "clf.score(X_test, y_test)\n",
    "y_test_predicted = clf.predict(X_test)"
   ]
  },
  {
   "cell_type": "code",
   "execution_count": 28,
   "metadata": {},
   "outputs": [],
   "source": [
    "from sklearn import cross_validation\n",
    "import xgboost"
   ]
  },
  {
   "cell_type": "code",
   "execution_count": 29,
   "metadata": {},
   "outputs": [],
   "source": [
    "X_train, X_test, y_train, y_test = cross_validation.train_test_split(x.values, y, test_size=0.25, random_state = 111)"
   ]
  },
  {
   "cell_type": "code",
   "execution_count": 30,
   "metadata": {},
   "outputs": [],
   "source": [
    "model = xgboost.XGBClassifier()\n",
    "model.fit(X_train, y_train)\n",
    "y_pred = model.predict(X_test)"
   ]
  },
  {
   "cell_type": "code",
   "execution_count": 31,
   "metadata": {},
   "outputs": [
    {
     "data": {
      "text/plain": [
       "array([0, 0, 1, 1, 0, 0, 0, 0, 0, 1, 0, 0, 0, 1, 0, 0, 0, 1, 0, 0, 1, 1,\n",
       "       0, 0, 0, 1, 1, 0, 1, 1, 0, 1, 0, 1, 0, 1, 0, 0, 0, 0, 0, 0, 0, 1,\n",
       "       1, 1, 1, 0, 1, 1, 0, 0, 1, 0, 0, 0, 1, 0, 0, 0, 1, 0, 1, 1, 0, 0,\n",
       "       0, 0, 1, 1, 0, 0, 0, 0, 0, 1, 1, 1, 0, 0, 1, 0, 0, 0, 0, 0, 1, 1,\n",
       "       1, 0])"
      ]
     },
     "execution_count": 31,
     "metadata": {},
     "output_type": "execute_result"
    }
   ],
   "source": [
    "y_pred"
   ]
  },
  {
   "cell_type": "code",
   "execution_count": 32,
   "metadata": {},
   "outputs": [
    {
     "data": {
      "text/plain": [
       "0.6777777777777778"
      ]
     },
     "execution_count": 32,
     "metadata": {},
     "output_type": "execute_result"
    }
   ],
   "source": [
    "model.score(X_test, y_test)"
   ]
  },
  {
   "cell_type": "code",
   "execution_count": null,
   "metadata": {},
   "outputs": [],
   "source": []
  },
  {
   "cell_type": "code",
   "execution_count": 118,
   "metadata": {},
   "outputs": [],
   "source": [
    "from sklearn.pipeline import Pipeline\n",
    "from sklearn.naive_bayes import GaussianNB\n",
    "import warnings\n",
    "warnings.filterwarnings('ignore')"
   ]
  },
  {
   "cell_type": "code",
   "execution_count": 148,
   "metadata": {},
   "outputs": [],
   "source": [
    "pipeline = Pipeline ([\n",
    "    ('1', MinMaxScaler()),\n",
    "    ('2', PolynomialFeatures()),\n",
    "    ('3', LinearRegression())\n",
    "])\n",
    "\n",
    "params = [{\n",
    "    '1': [StandardScaler(), MinMaxScaler()],\n",
    "    '3': [Lasso(), xgboost.XGBClassifier(), DecisionTreeClassifier(), KNeighborsClassifier(), GaussianNB(), RandomForestClassifier(n_estimators=100, max_depth = 10, n_jobs=7)]\n",
    "}]"
   ]
  },
  {
   "cell_type": "code",
   "execution_count": 149,
   "metadata": {},
   "outputs": [],
   "source": [
    "X_train, X_test, y_train, y_test = cross_validation.train_test_split(x.values, y, test_size=0.2, random_state = 111)"
   ]
  },
  {
   "cell_type": "code",
   "execution_count": 150,
   "metadata": {},
   "outputs": [
    {
     "data": {
      "text/plain": [
       "array([[ 1.00867298e+00,  9.87867850e-01,  0.00000000e+00,\n",
       "         0.00000000e+00, -5.77164366e-03],\n",
       "       [ 1.09292625e+00,  9.27246790e-01,  4.00000000e+00,\n",
       "         1.00000000e+00,  1.64166667e-01],\n",
       "       [ 1.03987899e+00,  9.62962963e-01,  4.00000000e+00,\n",
       "         4.00000000e+00,  2.97503915e-02],\n",
       "       ...,\n",
       "       [ 1.00903226e+00,  9.85069124e-01,  0.00000000e+00,\n",
       "         0.00000000e+00,  9.28677563e-04],\n",
       "       [ 1.03152302e+00,  9.56930465e-01,  3.00000000e+00,\n",
       "         2.00000000e+00, -5.74712644e-02],\n",
       "       [ 1.01749007e+00,  9.87586068e-01,  0.00000000e+00,\n",
       "         5.00000000e+00, -2.16343182e-02]])"
      ]
     },
     "execution_count": 150,
     "metadata": {},
     "output_type": "execute_result"
    }
   ],
   "source": [
    "X_train"
   ]
  },
  {
   "cell_type": "code",
   "execution_count": 151,
   "metadata": {},
   "outputs": [],
   "source": [
    "peremennaya = GridSearchCV(pipeline, param_grid = params)"
   ]
  },
  {
   "cell_type": "code",
   "execution_count": 152,
   "metadata": {},
   "outputs": [
    {
     "data": {
      "text/plain": [
       "GridSearchCV(cv=None, error_score='raise',\n",
       "       estimator=Pipeline(memory=None,\n",
       "     steps=[('1', MinMaxScaler(copy=True, feature_range=(0, 1))), ('2', PolynomialFeatures(degree=2, include_bias=True, interaction_only=False)), ('3', LinearRegression(copy_X=True, fit_intercept=True, n_jobs=1, normalize=False))]),\n",
       "       fit_params=None, iid=True, n_jobs=1,\n",
       "       param_grid=[{'1': [StandardScaler(copy=True, with_mean=True, with_std=True), MinMaxScaler(copy=True, feature_range=(0, 1))], '3': [Lasso(alpha=1.0, copy_X=True, fit_intercept=True, max_iter=1000,\n",
       "   normalize=False, positive=False, precompute=False, random_state=None,\n",
       "   selection='cyclic', tol=0.00..._jobs=7,\n",
       "            oob_score=False, random_state=None, verbose=0,\n",
       "            warm_start=False)]}],\n",
       "       pre_dispatch='2*n_jobs', refit=True, return_train_score='warn',\n",
       "       scoring=None, verbose=0)"
      ]
     },
     "execution_count": 152,
     "metadata": {},
     "output_type": "execute_result"
    }
   ],
   "source": [
    "peremennaya.fit(X_train, y_train)"
   ]
  },
  {
   "cell_type": "code",
   "execution_count": 153,
   "metadata": {},
   "outputs": [],
   "source": [
    "import pickle"
   ]
  },
  {
   "cell_type": "code",
   "execution_count": 154,
   "metadata": {},
   "outputs": [],
   "source": [
    "with open('data.pickle', 'wb') as f:\n",
    "    pickle.dump(peremennaya, f)\n",
    "\n",
    "peremennaya = None\n",
    "    \n",
    "with open('data.pickle', 'rb') as f:\n",
    "    peremennaya = pickle.load(f)"
   ]
  },
  {
   "cell_type": "code",
   "execution_count": 155,
   "metadata": {},
   "outputs": [],
   "source": [
    "y_pred = peremennaya.predict(X_test)"
   ]
  },
  {
   "cell_type": "code",
   "execution_count": 156,
   "metadata": {},
   "outputs": [
    {
     "data": {
      "text/plain": [
       "0.6388888888888888"
      ]
     },
     "execution_count": 156,
     "metadata": {},
     "output_type": "execute_result"
    }
   ],
   "source": [
    "accuracy_score(y_test, y_pred)"
   ]
  },
  {
   "cell_type": "code",
   "execution_count": null,
   "metadata": {},
   "outputs": [],
   "source": []
  },
  {
   "cell_type": "code",
   "execution_count": null,
   "metadata": {},
   "outputs": [],
   "source": []
  }
 ],
 "metadata": {
  "kernelspec": {
   "display_name": "Python 3",
   "language": "python",
   "name": "python3"
  },
  "language_info": {
   "codemirror_mode": {
    "name": "ipython",
    "version": 3
   },
   "file_extension": ".py",
   "mimetype": "text/x-python",
   "name": "python",
   "nbconvert_exporter": "python",
   "pygments_lexer": "ipython3",
   "version": "3.6.5"
  }
 },
 "nbformat": 4,
 "nbformat_minor": 2
}
